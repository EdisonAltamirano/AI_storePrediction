{
 "cells": [
  {
   "cell_type": "markdown",
   "source": [
    "## Read data"
   ],
   "metadata": {
    "collapsed": false,
    "pycharm": {
     "name": "#%% md\n"
    }
   }
  },
  {
   "cell_type": "code",
   "execution_count": 84,
   "metadata": {
    "collapsed": true
   },
   "outputs": [
    {
     "data": {
      "text/plain": "           BILL_DATE  MATERIAL SALES_DIST  SOLD_TO  SHIP_TO  PIEZAS\n56436972  2019-11-03     12091     104862  6001773  7036861       1\n56436973  2019-11-03     17568     104862  6001773  7036861       1\n56436974  2019-11-03     15439     104862  6001773  7036861       1\n56436975  2019-11-03       542     104862  6001773  7036861       1\n56436976  2019-11-03      2674     104862  6001773  7036861       1\n...              ...       ...        ...      ...      ...     ...\n187373097 2021-03-31      2296     104862  6003121  7036861       1\n187373098 2021-03-31      3590     104862  6003121  7036861       1\n187373099 2021-03-31      8505     104862  6003121  7036861       1\n187373100 2021-03-31     16951     104862  6003121  7036861       1\n187373101 2021-03-31     19974     104862  6003121  7036861       1\n\n[4475 rows x 6 columns]",
      "text/html": "<div>\n<style scoped>\n    .dataframe tbody tr th:only-of-type {\n        vertical-align: middle;\n    }\n\n    .dataframe tbody tr th {\n        vertical-align: top;\n    }\n\n    .dataframe thead th {\n        text-align: right;\n    }\n</style>\n<table border=\"1\" class=\"dataframe\">\n  <thead>\n    <tr style=\"text-align: right;\">\n      <th></th>\n      <th>BILL_DATE</th>\n      <th>MATERIAL</th>\n      <th>SALES_DIST</th>\n      <th>SOLD_TO</th>\n      <th>SHIP_TO</th>\n      <th>PIEZAS</th>\n    </tr>\n  </thead>\n  <tbody>\n    <tr>\n      <th>56436972</th>\n      <td>2019-11-03</td>\n      <td>12091</td>\n      <td>104862</td>\n      <td>6001773</td>\n      <td>7036861</td>\n      <td>1</td>\n    </tr>\n    <tr>\n      <th>56436973</th>\n      <td>2019-11-03</td>\n      <td>17568</td>\n      <td>104862</td>\n      <td>6001773</td>\n      <td>7036861</td>\n      <td>1</td>\n    </tr>\n    <tr>\n      <th>56436974</th>\n      <td>2019-11-03</td>\n      <td>15439</td>\n      <td>104862</td>\n      <td>6001773</td>\n      <td>7036861</td>\n      <td>1</td>\n    </tr>\n    <tr>\n      <th>56436975</th>\n      <td>2019-11-03</td>\n      <td>542</td>\n      <td>104862</td>\n      <td>6001773</td>\n      <td>7036861</td>\n      <td>1</td>\n    </tr>\n    <tr>\n      <th>56436976</th>\n      <td>2019-11-03</td>\n      <td>2674</td>\n      <td>104862</td>\n      <td>6001773</td>\n      <td>7036861</td>\n      <td>1</td>\n    </tr>\n    <tr>\n      <th>...</th>\n      <td>...</td>\n      <td>...</td>\n      <td>...</td>\n      <td>...</td>\n      <td>...</td>\n      <td>...</td>\n    </tr>\n    <tr>\n      <th>187373097</th>\n      <td>2021-03-31</td>\n      <td>2296</td>\n      <td>104862</td>\n      <td>6003121</td>\n      <td>7036861</td>\n      <td>1</td>\n    </tr>\n    <tr>\n      <th>187373098</th>\n      <td>2021-03-31</td>\n      <td>3590</td>\n      <td>104862</td>\n      <td>6003121</td>\n      <td>7036861</td>\n      <td>1</td>\n    </tr>\n    <tr>\n      <th>187373099</th>\n      <td>2021-03-31</td>\n      <td>8505</td>\n      <td>104862</td>\n      <td>6003121</td>\n      <td>7036861</td>\n      <td>1</td>\n    </tr>\n    <tr>\n      <th>187373100</th>\n      <td>2021-03-31</td>\n      <td>16951</td>\n      <td>104862</td>\n      <td>6003121</td>\n      <td>7036861</td>\n      <td>1</td>\n    </tr>\n    <tr>\n      <th>187373101</th>\n      <td>2021-03-31</td>\n      <td>19974</td>\n      <td>104862</td>\n      <td>6003121</td>\n      <td>7036861</td>\n      <td>1</td>\n    </tr>\n  </tbody>\n</table>\n<p>4475 rows × 6 columns</p>\n</div>"
     },
     "execution_count": 84,
     "metadata": {},
     "output_type": "execute_result"
    }
   ],
   "source": [
    "import pandas as pd\n",
    "import numpy as np\n",
    "import matplotlib.pyplot as plt\n",
    "\n",
    "df = pd.read_parquet('../data/sales-7036861.parquet.gzip')\n",
    "df"
   ]
  },
  {
   "cell_type": "markdown",
   "source": [
    "## Get top products by sales"
   ],
   "metadata": {
    "collapsed": false,
    "pycharm": {
     "name": "#%% md\n"
    }
   }
  },
  {
   "cell_type": "code",
   "execution_count": 85,
   "outputs": [
    {
     "data": {
      "text/plain": "      MATERIAL  PIEZAS\n899      42830     191\n951      42915     179\n950      42914     162\n926      42883     141\n919      42875     126\n941      42902     125\n1031     43337     116\n903      42847     113\n902      42846      98\n984      42957      94",
      "text/html": "<div>\n<style scoped>\n    .dataframe tbody tr th:only-of-type {\n        vertical-align: middle;\n    }\n\n    .dataframe tbody tr th {\n        vertical-align: top;\n    }\n\n    .dataframe thead th {\n        text-align: right;\n    }\n</style>\n<table border=\"1\" class=\"dataframe\">\n  <thead>\n    <tr style=\"text-align: right;\">\n      <th></th>\n      <th>MATERIAL</th>\n      <th>PIEZAS</th>\n    </tr>\n  </thead>\n  <tbody>\n    <tr>\n      <th>899</th>\n      <td>42830</td>\n      <td>191</td>\n    </tr>\n    <tr>\n      <th>951</th>\n      <td>42915</td>\n      <td>179</td>\n    </tr>\n    <tr>\n      <th>950</th>\n      <td>42914</td>\n      <td>162</td>\n    </tr>\n    <tr>\n      <th>926</th>\n      <td>42883</td>\n      <td>141</td>\n    </tr>\n    <tr>\n      <th>919</th>\n      <td>42875</td>\n      <td>126</td>\n    </tr>\n    <tr>\n      <th>941</th>\n      <td>42902</td>\n      <td>125</td>\n    </tr>\n    <tr>\n      <th>1031</th>\n      <td>43337</td>\n      <td>116</td>\n    </tr>\n    <tr>\n      <th>903</th>\n      <td>42847</td>\n      <td>113</td>\n    </tr>\n    <tr>\n      <th>902</th>\n      <td>42846</td>\n      <td>98</td>\n    </tr>\n    <tr>\n      <th>984</th>\n      <td>42957</td>\n      <td>94</td>\n    </tr>\n  </tbody>\n</table>\n</div>"
     },
     "execution_count": 85,
     "metadata": {},
     "output_type": "execute_result"
    }
   ],
   "source": [
    "relevant_info_df = df[[\"MATERIAL\",\"BILL_DATE\",\"PIEZAS\"]]\n",
    "# Group by sales\n",
    "by_sales = relevant_info_df.groupby('MATERIAL').PIEZAS.sum().to_frame(name = 'PIEZAS').reset_index()\n",
    "by_sales = by_sales.sort_values(by=['PIEZAS'],ascending=False)\n",
    "\n",
    "top_10 = by_sales.head(10)\n",
    "top_10"
   ],
   "metadata": {
    "collapsed": false,
    "pycharm": {
     "name": "#%%\n"
    }
   }
  },
  {
   "cell_type": "markdown",
   "source": [
    "## Get data from most sold product"
   ],
   "metadata": {
    "collapsed": false,
    "pycharm": {
     "name": "#%% md\n"
    }
   }
  },
  {
   "cell_type": "code",
   "execution_count": 86,
   "outputs": [
    {
     "name": "stdout",
     "output_type": "stream",
     "text": [
      "     BILL_DATE  PIEZAS\n",
      "0   2019-03-03       0\n",
      "1   2019-03-04       0\n",
      "2   2019-03-05       0\n",
      "3   2019-03-06       0\n",
      "4   2019-03-07       0\n",
      "..         ...     ...\n",
      "755 2021-03-27       0\n",
      "756 2021-03-28       0\n",
      "757 2021-03-29       0\n",
      "758 2021-03-30       0\n",
      "759 2021-03-31       0\n",
      "\n",
      "[760 rows x 2 columns]\n"
     ]
    }
   ],
   "source": [
    "prod_1 = relevant_info_df[relevant_info_df[\"MATERIAL\"] == top_10.iloc[0][\"MATERIAL\"]]\n",
    "prod_1 = prod_1.groupby('BILL_DATE').PIEZAS.sum().to_frame(name = 'PIEZAS')\n",
    "\n",
    "idx = pd.date_range('2019-03-03', '2021-03-31')\n",
    "prod_1.index = pd.DatetimeIndex(prod_1.index)\n",
    "prod_1 = prod_1.reindex(idx, fill_value=0)\n",
    "prod_1.index.name = \"BILL_DATE\"\n",
    "prod_1 = prod_1.reset_index()\n",
    "\n",
    "print(prod_1)"
   ],
   "metadata": {
    "collapsed": false,
    "pycharm": {
     "name": "#%%\n"
    }
   }
  },
  {
   "cell_type": "markdown",
   "source": [
    "## Plot top product behaviour"
   ],
   "metadata": {
    "collapsed": false
   }
  },
  {
   "cell_type": "code",
   "execution_count": 87,
   "outputs": [
    {
     "data": {
      "text/plain": "<AxesSubplot:>"
     },
     "execution_count": 87,
     "metadata": {},
     "output_type": "execute_result"
    },
    {
     "data": {
      "text/plain": "<Figure size 432x288 with 1 Axes>",
      "image/png": "[encoded data removed]"
     },
     "metadata": {
      "needs_background": "light"
     },
     "output_type": "display_data"
    }
   ],
   "source": [
    "p1_x = prod_1[\"BILL_DATE\"].to_numpy()\n",
    "p1_y = prod_1[\"PIEZAS\"].to_numpy()\n",
    "ts = pd.Series(p1_y, index=p1_x)\n",
    "ts.cumsum()\n",
    "ts.plot()\n"
   ],
   "metadata": {
    "collapsed": false,
    "pycharm": {
     "name": "#%%\n"
    }
   }
  }
 ],
 "metadata": {
  "kernelspec": {
   "display_name": "Python 3",
   "language": "python",
   "name": "python3"
  },
  "language_info": {
   "codemirror_mode": {
    "name": "ipython",
    "version": 2
   },
   "file_extension": ".py",
   "mimetype": "text/x-python",
   "name": "python",
   "nbconvert_exporter": "python",
   "pygments_lexer": "ipython2",
   "version": "2.7.6"
  }
 },
 "nbformat": 4,
 "nbformat_minor": 0
}