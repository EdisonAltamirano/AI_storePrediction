{
 "cells": [
  {
   "cell_type": "code",
   "execution_count": 2,
   "id": "b696014f",
   "metadata": {},
   "outputs": [
    {
     "data": {
      "text/plain": "           BILL_DATE  MATERIAL SALES_DIST  SOLD_TO  SHIP_TO  PIEZAS\n327623    2019-03-04       425     103330  6002484  7017139       1\n342880    2019-03-04     12080     103330  6002484  7017139       1\n343841    2019-03-04      2639     103330  6002484  7017139       1\n347866    2019-03-04     12026     103330  6002484  7017139       1\n467020    2019-03-04     29772     103330  6002484  7017139       2\n...              ...       ...        ...      ...      ...     ...\n187373097 2021-03-31      2296     104862  6003121  7036861       1\n187373098 2021-03-31      3590     104862  6003121  7036861       1\n187373099 2021-03-31      8505     104862  6003121  7036861       1\n187373100 2021-03-31     16951     104862  6003121  7036861       1\n187373101 2021-03-31     19974     104862  6003121  7036861       1\n\n[30605 rows x 6 columns]",
      "text/html": "<div>\n<style scoped>\n    .dataframe tbody tr th:only-of-type {\n        vertical-align: middle;\n    }\n\n    .dataframe tbody tr th {\n        vertical-align: top;\n    }\n\n    .dataframe thead th {\n        text-align: right;\n    }\n</style>\n<table border=\"1\" class=\"dataframe\">\n  <thead>\n    <tr style=\"text-align: right;\">\n      <th></th>\n      <th>BILL_DATE</th>\n      <th>MATERIAL</th>\n      <th>SALES_DIST</th>\n      <th>SOLD_TO</th>\n      <th>SHIP_TO</th>\n      <th>PIEZAS</th>\n    </tr>\n  </thead>\n  <tbody>\n    <tr>\n      <th>327623</th>\n      <td>2019-03-04</td>\n      <td>425</td>\n      <td>103330</td>\n      <td>6002484</td>\n      <td>7017139</td>\n      <td>1</td>\n    </tr>\n    <tr>\n      <th>342880</th>\n      <td>2019-03-04</td>\n      <td>12080</td>\n      <td>103330</td>\n      <td>6002484</td>\n      <td>7017139</td>\n      <td>1</td>\n    </tr>\n    <tr>\n      <th>343841</th>\n      <td>2019-03-04</td>\n      <td>2639</td>\n      <td>103330</td>\n      <td>6002484</td>\n      <td>7017139</td>\n      <td>1</td>\n    </tr>\n    <tr>\n      <th>347866</th>\n      <td>2019-03-04</td>\n      <td>12026</td>\n      <td>103330</td>\n      <td>6002484</td>\n      <td>7017139</td>\n      <td>1</td>\n    </tr>\n    <tr>\n      <th>467020</th>\n      <td>2019-03-04</td>\n      <td>29772</td>\n      <td>103330</td>\n      <td>6002484</td>\n      <td>7017139</td>\n      <td>2</td>\n    </tr>\n    <tr>\n      <th>...</th>\n      <td>...</td>\n      <td>...</td>\n      <td>...</td>\n      <td>...</td>\n      <td>...</td>\n      <td>...</td>\n    </tr>\n    <tr>\n      <th>187373097</th>\n      <td>2021-03-31</td>\n      <td>2296</td>\n      <td>104862</td>\n      <td>6003121</td>\n      <td>7036861</td>\n      <td>1</td>\n    </tr>\n    <tr>\n      <th>187373098</th>\n      <td>2021-03-31</td>\n      <td>3590</td>\n      <td>104862</td>\n      <td>6003121</td>\n      <td>7036861</td>\n      <td>1</td>\n    </tr>\n    <tr>\n      <th>187373099</th>\n      <td>2021-03-31</td>\n      <td>8505</td>\n      <td>104862</td>\n      <td>6003121</td>\n      <td>7036861</td>\n      <td>1</td>\n    </tr>\n    <tr>\n      <th>187373100</th>\n      <td>2021-03-31</td>\n      <td>16951</td>\n      <td>104862</td>\n      <td>6003121</td>\n      <td>7036861</td>\n      <td>1</td>\n    </tr>\n    <tr>\n      <th>187373101</th>\n      <td>2021-03-31</td>\n      <td>19974</td>\n      <td>104862</td>\n      <td>6003121</td>\n      <td>7036861</td>\n      <td>1</td>\n    </tr>\n  </tbody>\n</table>\n<p>30605 rows × 6 columns</p>\n</div>"
     },
     "execution_count": 2,
     "metadata": {},
     "output_type": "execute_result"
    }
   ],
   "source": [
    "import pandas as pd\n",
    "import numpy as np\n",
    "from pathlib import Path\n",
    "\n",
    "data_dir = Path('data')\n",
    "full_df = pd.concat(\n",
    "    pd.read_parquet(parquet_file)\n",
    "    for parquet_file in data_dir.glob('*.parquet*')\n",
    ")\n",
    "full_df"
   ]
  },
  {
   "cell_type": "code",
   "execution_count": null,
   "id": "3fbdac06",
   "metadata": {},
   "outputs": [],
   "source": []
  }
 ],
 "metadata": {
  "interpreter": {
   "hash": "245fe46709ce1e08597b3984f7a9bc9151d18a91333904a66c294314eb8b9b18"
  },
  "kernelspec": {
   "name": "python3",
   "language": "python",
   "display_name": "Python 3 (ipykernel)"
  },
  "language_info": {
   "codemirror_mode": {
    "name": "ipython",
    "version": 3
   },
   "file_extension": ".py",
   "mimetype": "text/x-python",
   "name": "python",
   "nbconvert_exporter": "python",
   "pygments_lexer": "ipython3",
   "version": "3.8.12"
  }
 },
 "nbformat": 4,
 "nbformat_minor": 5
}